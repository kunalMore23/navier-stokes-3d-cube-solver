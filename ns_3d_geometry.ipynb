{
 "cells": [
  {
   "cell_type": "code",
   "execution_count": 1,
   "id": "ec1bd854-ca47-4b63-a811-c1b95dfc1ae0",
   "metadata": {},
   "outputs": [],
   "source": [
    "import os\n",
    "import warnings\n",
    "from sympy import Symbol, Eq, Abs\n",
    "import modulus.sym\n",
    "from modulus.sym.geometry.primitives_2d import Rectangle, Line\n",
    "from modulus.sym.geometry.primitives_3d import Box, Sphere, Cylinder\n",
    "from modulus.sym.eq.pdes.navier_stokes import NavierStokes\n",
    "import numpy as np\n",
    "import vtk\n",
    "from modulus.sym.utils.io.vtk import var_to_polyvtk"
   ]
  },
  {
   "cell_type": "code",
   "execution_count": 6,
   "id": "bba2cdf2-e7a0-40ed-9a6d-0f3b2446a75b",
   "metadata": {},
   "outputs": [],
   "source": [
    "nr_points = 1000000"
   ]
  },
  {
   "cell_type": "code",
   "execution_count": 7,
   "id": "95880fd4-d576-4246-943f-29558229a12d",
   "metadata": {},
   "outputs": [],
   "source": [
    "room = Box((0, 0, 0), (10, 10, 5))\n",
    "inlet = Box((0, 9, 2), (1, 10, 3))\n",
    "outlet = Box((9, 9, 2), (10, 10, 3))"
   ]
  },
  {
   "cell_type": "code",
   "execution_count": 8,
   "id": "02ae7fc7-4236-439b-898c-1c03977cd061",
   "metadata": {},
   "outputs": [],
   "source": [
    "room_interior = room - inlet - outlet\n",
    "room_interior_sample = room_interior.sample_boundary(nr_points=nr_points)\n",
    "var_to_polyvtk(room_interior_sample, \"room_interior_sample\")"
   ]
  },
  {
   "cell_type": "code",
   "execution_count": 9,
   "id": "c6338272-b324-42a2-afb9-d475aeee5de4",
   "metadata": {},
   "outputs": [],
   "source": [
    "# print(\"Volume:{:.3f}\".format(np.sum(room_interior_sample[\"area\"])))"
   ]
  },
  {
   "cell_type": "code",
   "execution_count": null,
   "id": "bf046429-fba8-4293-982b-8d0624fb6287",
   "metadata": {},
   "outputs": [],
   "source": []
  }
 ],
 "metadata": {
  "kernelspec": {
   "display_name": "Python 3 (ipykernel)",
   "language": "python",
   "name": "python3"
  },
  "language_info": {
   "codemirror_mode": {
    "name": "ipython",
    "version": 3
   },
   "file_extension": ".py",
   "mimetype": "text/x-python",
   "name": "python",
   "nbconvert_exporter": "python",
   "pygments_lexer": "ipython3",
   "version": "3.10.12"
  }
 },
 "nbformat": 4,
 "nbformat_minor": 5
}
