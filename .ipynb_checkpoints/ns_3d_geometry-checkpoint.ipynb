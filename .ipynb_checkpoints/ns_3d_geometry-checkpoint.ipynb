{
 "cells": [
  {
   "cell_type": "code",
   "execution_count": 22,
   "id": "ec1bd854-ca47-4b63-a811-c1b95dfc1ae0",
   "metadata": {},
   "outputs": [],
   "source": [
    "import os\n",
    "import warnings\n",
    "\n",
    "from sympy import Symbol, Eq, Abs\n",
    "\n",
    "import modulus.sym\n",
    "from modulus.sym.geometry.primitives_2d import Rectangle, Line\n",
    "from modulus.sym.geometry.primitives_3d import Box, Sphere, Cylinder\n",
    "from modulus.sym.eq.pdes.navier_stokes import NavierStokes\n",
    "\n",
    "import numpy as np\n",
    "import vtk\n",
    "from modulus.sym.utils.io.vtk import var_to_polyvtk"
   ]
  },
  {
   "cell_type": "code",
   "execution_count": 23,
   "id": "121181ad-e7db-4e43-9f5f-7bb8e1c06575",
   "metadata": {},
   "outputs": [],
   "source": [
    "points = 1000000\n",
    "room = Box((0, 0, 0), (10, 10, 5))\n",
    "inlet = Box((0, 9, 2.25), (1, 10, 2.75))\n",
    "outlet = Box((9, 0, 2.25), (10, 1, 2.75))\n",
    "room_boundary = room - inlet - outlet"
   ]
  },
  {
   "cell_type": "code",
   "execution_count": 24,
   "id": "16f59a57-8057-4325-a6e1-1119b761fb2b",
   "metadata": {},
   "outputs": [],
   "source": [
    "room_boundary_sample = room_boundary.sample_boundary(nr_points=points)\n",
    "var_to_polyvtk(room_boundary_sample, \"room_boundary_sample\")"
   ]
  },
  {
   "cell_type": "code",
   "execution_count": 14,
   "id": "cc92bc8f-cfcb-4915-823a-6e08faff3fd2",
   "metadata": {},
   "outputs": [],
   "source": [
    "\n",
    "def run(cfg: ModulusConfig) -> None:\n",
    "    ns = NavierStokes(nu=0.01, rho=1.0, dim=2, time=False)\n",
    "    flow_net = instantiate_arch(\n",
    "            input_keys=[Key(\"x\"), Key(\"y\")],\n",
    "            output_keys=[Key(\"u\"), Key(\"v\"), Key(\"p\")],\n",
    "            cfg=cfg.arch.fully_connected,\n",
    "        )\n",
    "    nodes = ns.make_nodes() + [flow_net.make_node(name=\"flow_network\")]\n",
    "\n",
    "    ns_domain = Domain()\n",
    "    \n",
    "\n",
    "    top_wall = PointwiseBoundaryConstraint(\n",
    "        nodes=nodes,\n",
    "        geometry=rec,\n",
    "        outvar={\"u\": 1.0, \"v\": 0},\n",
    "        batch_size=cfg.batch_size.TopWall,\n",
    "        lambda_weighting={\"u\": 1.0 - 20 * Abs(x), \"v\": 1.0},  # weight edges to be zero\n",
    "        criteria=Eq(y, height / 2),\n",
    "    )\n",
    "    ldc_domain.add_constraint(top_wall, \"top_wall\")\n",
    "\n",
    "\n",
    "    # make solver\n",
    "    slv = Solver(cfg, ns_domain)\n",
    "    \n",
    "    # start solver\n",
    "    slv.solve()"
   ]
  }
 ],
 "metadata": {
  "kernelspec": {
   "display_name": "Python 3 (ipykernel)",
   "language": "python",
   "name": "python3"
  },
  "language_info": {
   "codemirror_mode": {
    "name": "ipython",
    "version": 3
   },
   "file_extension": ".py",
   "mimetype": "text/x-python",
   "name": "python",
   "nbconvert_exporter": "python",
   "pygments_lexer": "ipython3",
   "version": "3.10.12"
  }
 },
 "nbformat": 4,
 "nbformat_minor": 5
}
